{
 "cells": [
  {
   "cell_type": "code",
   "execution_count": null,
   "metadata": {},
   "outputs": [],
   "source": [
    "import numpy as np\n",
    "import matplotlib.pyplot as plt"
   ]
  },
  {
   "cell_type": "code",
   "execution_count": null,
   "metadata": {},
   "outputs": [],
   "source": [
    "def diff_fn(X, Y):\n",
    "    \"\"\"\n",
    "    X: m x N\n",
    "    Y: m x N\n",
    "    \"\"\"\n",
    "    \n",
    "    X = np.expand_dims(X, axis=1) # m x 1 x N\n",
    "    Y = np.expand_dims(Y, axis=0) # 1 x m x N\n",
    "    diff = X - Y # m x m x N\n",
    "    return diff"
   ]
  },
  {
   "cell_type": "code",
   "execution_count": null,
   "metadata": {},
   "outputs": [],
   "source": [
    "def diff_norm_sq_fn(X, Y):\n",
    "    \"\"\"\n",
    "    X: m x N\n",
    "    Y: m x N\n",
    "    \"\"\"\n",
    "    \n",
    "    diff = diff_fn(X, Y) # m x m x N\n",
    "    diff_norm_sq = np.sum(diff**2, axis=-1) # m x m\n",
    "    return diff_norm_sq"
   ]
  },
  {
   "cell_type": "code",
   "execution_count": null,
   "metadata": {},
   "outputs": [],
   "source": [
    "def kernel_function(X, h):\n",
    "    \"\"\"\n",
    "    Args:\n",
    "        X: m x N\n",
    "        h: float\n",
    "    \"\"\"\n",
    "\n",
    "    m, N = X.shape\n",
    "\n",
    "    diff_norm_sq = diff_norm_sq_fn(X, X) # m x m\n",
    "    kernelMatrix = np.exp(- 1 / (2 * h**2) * diff_norm_sq) # m x m\n",
    "\n",
    "    kernelMatrix_expand  = np.expand_dims(kernelMatrix, axis=-1) # m x m x 1\n",
    "    diff = diff_fn(X, X) # m x m x N\n",
    "    gradKernel1 = - 1 / (h**2) * diff * kernelMatrix_expand # m x m x N\n",
    "    gradKernel2 = - gradKernel1 # m x m x N\n",
    "\n",
    "    hessKernel = (N - (1 / h **2) * diff_norm_sq) * kernelMatrix / h ** 2\n",
    "    \n",
    "    return kernelMatrix, gradKernel1, gradKernel2, hessKernel"
   ]
  },
  {
   "cell_type": "code",
   "execution_count": null,
   "metadata": {},
   "outputs": [],
   "source": [
    "def UqMatrix(X, h):\n",
    "    \n",
    "    kernelMatrix, gradKernel1, gradKernel2, hessKernel = kernel_function(X, h)\n",
    "    X_expand = np.expand_dims(-X, axis = 1) # m x 1 x N\n",
    "    Y_expand = np.expand_dims(-X, axis = 0) # 1 x m x N\n",
    "    UMatrix = kernelMatrix * np.dot(X, X.T) + np.sum(X_expand * gradKernel2, axis = -1) + np.sum(Y_expand * gradKernel1, axis = -1) + hessKernel\n",
    "\n",
    "    return UMatrix"
   ]
  },
  {
   "cell_type": "code",
   "execution_count": null,
   "metadata": {},
   "outputs": [],
   "source": [
    "def KSD(X, U):\n",
    "\n",
    "    m, _ = X.shape\n",
    "    matDiag = np.sum(U.diagonal())\n",
    "    matSum = U.sum()\n",
    "    KSD = (matSum - matDiag) / (m * (m - 1))\n",
    "    \n",
    "    return KSD"
   ]
  },
  {
   "cell_type": "code",
   "execution_count": null,
   "metadata": {},
   "outputs": [],
   "source": [
    "def Bootstrap_KSD(U, size = 1000, epochshow = False):\n",
    "    \"\"\"\n",
    "    \n",
    "    \"\"\"\n",
    "\n",
    "    m, _ = U.shape\n",
    "    multi_prob = np.repeat((1 / m), m)\n",
    "\n",
    "    Sstar = np.zeros(size)\n",
    "    for i in range(size):\n",
    "        Weight = np.random.multinomial(m, multi_prob)\n",
    "        Wadjust = (Weight - 1) / m\n",
    "        WMatrix = np.outer(Wadjust, Wadjust)\n",
    "        SMatrix = WMatrix * U\n",
    "        diag_sum = sum(SMatrix.diagonal())\n",
    "        matrix_sum = SMatrix.sum()\n",
    "        Si = matrix_sum - diag_sum\n",
    "        Sstar[i] = Si\n",
    "        if epochshow != False:\n",
    "            if (i+1) % epochshow == 0:\n",
    "                print(f\"we are in epoch {i+1}\")\n",
    "\n",
    "    return Sstar"
   ]
  },
  {
   "cell_type": "code",
   "execution_count": null,
   "metadata": {},
   "outputs": [],
   "source": [
    "def approx_pvalue(S, Sstar):\n",
    "    \"\"\"\n",
    "    param S: unbiased estimation of KSD, scalar\n",
    "    param Sstar: unbiased m bootstrap sample KSD\n",
    "    \"\"\"\n",
    "    n = len(Sstar)\n",
    "    TFarray = Sstar[Sstar >= S]\n",
    "    count = len(TFarray)\n",
    "    return count / n"
   ]
  },
  {
   "cell_type": "code",
   "execution_count": null,
   "metadata": {},
   "outputs": [],
   "source": [
    "def pValue_meanshift(samplesize, dim, bandwidth, meanvalue, bootstrapsize = 1000, iter = 100):\n",
    "    \"\"\"\n",
    "    param stepvalue: 1D numpy array with dimension dim or boolean value False\n",
    "    param covalue: 1D numpy array with dimension dim or boolean value False\n",
    "\n",
    "    param\n",
    "    \"\"\"\n",
    "    n = len(meanvalue)\n",
    "    pvalue = np.zeros((n, iter))\n",
    "    cov = np.identity(dim)\n",
    "    for i in range(n):\n",
    "        mi = meanvalue[i]\n",
    "        mean = np.repeat(mi, dim)\n",
    "        for j in range(iter):\n",
    "            Multinormal_X = np.random.multivariate_normal(mean, cov, samplesize)\n",
    "            UMatrix = UqMatrix(Multinormal_X, bandwidth)\n",
    "            KSDvalue = KSD(Multinormal_X, UMatrix)\n",
    "            KSDstar = Bootstrap_KSD(UMatrix, size = bootstrapsize, epochshow = False)\n",
    "            pvalue[i, j] = approx_pvalue(KSDvalue, KSDstar)\n",
    "        \n",
    "        print(f\"the {i + 1}th mean finished !\")\n",
    "    return pvalue"
   ]
  },
  {
   "cell_type": "code",
   "execution_count": null,
   "metadata": {},
   "outputs": [],
   "source": [
    "zeromean = np.array([0])\n",
    "\n",
    "dim20_sieze100 = pValue_meanshift(1000, 20, 1, meanvalue=zeromean, bootstrapsize = 5000, iter = 300)"
   ]
  },
  {
   "cell_type": "code",
   "execution_count": null,
   "metadata": {},
   "outputs": [],
   "source": []
  },
  {
   "cell_type": "code",
   "execution_count": null,
   "metadata": {},
   "outputs": [],
   "source": []
  },
  {
   "cell_type": "code",
   "execution_count": null,
   "metadata": {},
   "outputs": [],
   "source": []
  }
 ],
 "metadata": {
  "kernelspec": {
   "display_name": "Python 3.9.13 ('base')",
   "language": "python",
   "name": "python3"
  },
  "language_info": {
   "name": "python",
   "version": "3.9.13"
  },
  "orig_nbformat": 4,
  "vscode": {
   "interpreter": {
    "hash": "ee9914ed070dfafc1319cfccc487467fe71c8a0aea7cd17d7993e817f77b0864"
   }
  }
 },
 "nbformat": 4,
 "nbformat_minor": 2
}
