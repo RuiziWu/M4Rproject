{
 "cells": [
  {
   "cell_type": "code",
   "execution_count": 1,
   "metadata": {},
   "outputs": [],
   "source": [
    "import numpy as np\n",
    "import matplotlib.pyplot as plt"
   ]
  },
  {
   "cell_type": "code",
   "execution_count": 2,
   "metadata": {},
   "outputs": [],
   "source": [
    "def diff_fn(X, Y):\n",
    "    \"\"\"\n",
    "    X: m x N\n",
    "    Y: m x N\n",
    "    \"\"\"\n",
    "    \n",
    "    X = np.expand_dims(X, axis=1) # m x 1 x N\n",
    "    Y = np.expand_dims(Y, axis=0) # 1 x m x N\n",
    "    diff = X - Y # m x m x N\n",
    "    return diff"
   ]
  },
  {
   "cell_type": "code",
   "execution_count": 3,
   "metadata": {},
   "outputs": [],
   "source": [
    "def diff_norm_sq_fn(X, Y):\n",
    "    \"\"\"\n",
    "    X: m x N\n",
    "    Y: m x N\n",
    "    \"\"\"\n",
    "    \n",
    "    diff = diff_fn(X, Y) # m x m x N\n",
    "    diff_norm_sq = np.sum(diff**2, axis=-1) # m x m\n",
    "    return diff_norm_sq"
   ]
  },
  {
   "cell_type": "code",
   "execution_count": 4,
   "metadata": {},
   "outputs": [],
   "source": [
    "def kernel_function(X, h):\n",
    "    \"\"\"\n",
    "    Args:\n",
    "        X: m x N\n",
    "        h: float\n",
    "    \"\"\"\n",
    "\n",
    "    m, N = X.shape\n",
    "\n",
    "    diff_norm_sq = diff_norm_sq_fn(X, X) # m x m\n",
    "    kernelMatrix = np.exp(- 1 / (2 * h**2) * diff_norm_sq) # m x m\n",
    "\n",
    "    kernelMatrix_expand  = np.expand_dims(kernelMatrix, axis=-1) # m x m x 1\n",
    "    diff = diff_fn(X, X) # m x m x N\n",
    "    gradKernel1 = - 1 / (h**2) * diff * kernelMatrix_expand # m x m x N\n",
    "    gradKernel2 = - gradKernel1 # m x m x N\n",
    "\n",
    "    hessKernel = (N - (1 / h **2) * diff_norm_sq) * kernelMatrix / h ** 2\n",
    "    \n",
    "    return kernelMatrix, gradKernel1, gradKernel2, hessKernel"
   ]
  },
  {
   "cell_type": "code",
   "execution_count": 5,
   "metadata": {},
   "outputs": [],
   "source": [
    "def UqMatrix(X, h):\n",
    "    \n",
    "    kernelMatrix, gradKernel1, gradKernel2, hessKernel = kernel_function(X, h)\n",
    "    X_expand = np.expand_dims(-X, axis = 1) # m x 1 x N\n",
    "    Y_expand = np.expand_dims(-X, axis = 0) # 1 x m x N\n",
    "    UMatrix = kernelMatrix * np.dot(X, X.T) + np.sum(X_expand * gradKernel2, axis = -1) + np.sum(Y_expand * gradKernel1, axis = -1) + hessKernel\n",
    "\n",
    "    return UMatrix"
   ]
  },
  {
   "cell_type": "code",
   "execution_count": 6,
   "metadata": {},
   "outputs": [],
   "source": [
    "def KSD(X, U):\n",
    "\n",
    "    m, _ = X.shape\n",
    "    matDiag = np.sum(U.diagonal())\n",
    "    matSum = U.sum()\n",
    "    KSD = (matSum - matDiag) / (m * (m - 1))\n",
    "    \n",
    "    return KSD"
   ]
  },
  {
   "cell_type": "code",
   "execution_count": 7,
   "metadata": {},
   "outputs": [],
   "source": [
    "def Bootstrap_KSD(U, size = 1000, epochshow = False):\n",
    "    \"\"\"\n",
    "    \n",
    "    \"\"\"\n",
    "\n",
    "    m, _ = U.shape\n",
    "    multi_prob = np.repeat((1 / m), m)\n",
    "\n",
    "    Sstar = np.zeros(size)\n",
    "    for i in range(size):\n",
    "        Weight = np.random.multinomial(m, multi_prob)\n",
    "        Wadjust = (Weight - 1) / m\n",
    "        WMatrix = np.outer(Wadjust, Wadjust)\n",
    "        SMatrix = WMatrix * U\n",
    "        diag_sum = sum(SMatrix.diagonal())\n",
    "        matrix_sum = SMatrix.sum()\n",
    "        Si = matrix_sum - diag_sum\n",
    "        Sstar[i] = Si\n",
    "        if epochshow != False:\n",
    "            if (i+1) % epochshow == 0:\n",
    "                print(f\"we are in epoch {i+1}\")\n",
    "\n",
    "    return Sstar"
   ]
  },
  {
   "cell_type": "code",
   "execution_count": 8,
   "metadata": {},
   "outputs": [],
   "source": [
    "def approx_pvalue(S, Sstar):\n",
    "    \"\"\"\n",
    "    param S: unbiased estimation of KSD, scalar\n",
    "    param Sstar: unbiased m bootstrap sample KSD\n",
    "    \"\"\"\n",
    "    n = len(Sstar)\n",
    "    TFarray = Sstar[Sstar >= S]\n",
    "    count = len(TFarray)\n",
    "    return count / n"
   ]
  },
  {
   "cell_type": "code",
   "execution_count": 9,
   "metadata": {},
   "outputs": [],
   "source": [
    "def pValue_meanshift(samplesize, dim, bandwidth, meanvalue, bootstrapsize = 1000, iter = 100):\n",
    "    \"\"\"\n",
    "    param stepvalue: 1D numpy array with dimension dim or boolean value False\n",
    "    param covalue: 1D numpy array with dimension dim or boolean value False\n",
    "\n",
    "    param\n",
    "    \"\"\"\n",
    "    n = len(meanvalue)\n",
    "    pvalue = np.zeros((n, iter))\n",
    "    cov = np.identity(dim)\n",
    "    for i in range(n):\n",
    "        mi = meanvalue[i]\n",
    "        mean = np.repeat(mi, dim)\n",
    "        for j in range(iter):\n",
    "            Multinormal_X = np.random.multivariate_normal(mean, cov, samplesize)\n",
    "            UMatrix = UqMatrix(Multinormal_X, bandwidth)\n",
    "            KSDvalue = KSD(Multinormal_X, UMatrix)\n",
    "            KSDstar = Bootstrap_KSD(UMatrix, size = bootstrapsize, epochshow = False)\n",
    "            pvalue[i, j] = approx_pvalue(KSDvalue, KSDstar)\n",
    "        \n",
    "        print(f\"the {i + 1}th mean finished !\")\n",
    "    return pvalue"
   ]
  },
  {
   "cell_type": "code",
   "execution_count": 10,
   "metadata": {},
   "outputs": [],
   "source": [
    "def pValue_varshift(samplesize, dim, bandwidth, varvalue, bootstrapsize = 1000, iter = 100):\n",
    "    \"\"\"\n",
    "    param stepvalue: 1D numpy array with dimension dim or boolean value False\n",
    "    param covalue: 1D numpy array with dimension dim or boolean value False\n",
    "\n",
    "    param\n",
    "    \"\"\"\n",
    "    n = len(varvalue)\n",
    "    pvalue = np.zeros((n, iter))\n",
    "    mean = np.zeros(dim)\n",
    "    for i in range(n):\n",
    "        vi = varvalue[i]\n",
    "        cov = np.identity(dim) * vi\n",
    "        for j in range(iter):\n",
    "            Multinormal_X = np.random.multivariate_normal(mean, cov, samplesize)\n",
    "            UMatrix = UqMatrix(Multinormal_X, bandwidth)\n",
    "            KSDvalue = KSD(Multinormal_X, UMatrix)\n",
    "            KSDstar = Bootstrap_KSD(UMatrix, size = bootstrapsize)\n",
    "            pvalue[i, j] = approx_pvalue(KSDvalue, KSDstar)\n",
    "    return pvalue"
   ]
  },
  {
   "cell_type": "code",
   "execution_count": 11,
   "metadata": {},
   "outputs": [],
   "source": [
    "zeromean = np.array([0])"
   ]
  },
  {
   "cell_type": "code",
   "execution_count": null,
   "metadata": {},
   "outputs": [],
   "source": [
    "dim20_sieze100 = pValue_meanshift(100, 20, 1, meanvalue=zeromean, iter = 300)"
   ]
  },
  {
   "cell_type": "code",
   "execution_count": null,
   "metadata": {},
   "outputs": [],
   "source": [
    "dim20_sieze300 = pValue_meanshift(300, 20, 1, meanvalue=zeromean, iter = 300)"
   ]
  },
  {
   "cell_type": "code",
   "execution_count": null,
   "metadata": {},
   "outputs": [],
   "source": [
    "dim20_sieze500 = pValue_meanshift(500, 20, 1, meanvalue=zeromean, iter = 300)"
   ]
  },
  {
   "cell_type": "code",
   "execution_count": null,
   "metadata": {},
   "outputs": [],
   "source": [
    "dim20_sieze1000 = pValue_meanshift(1000, 20, 1, meanvalue=zeromean, iter = 300)"
   ]
  },
  {
   "cell_type": "code",
   "execution_count": null,
   "metadata": {},
   "outputs": [],
   "source": [
    "data_20 = np.array([dim20_sieze100[0], dim20_sieze300[0], dim20_sieze500[0], dim20_sieze1000[0]])"
   ]
  },
  {
   "cell_type": "code",
   "execution_count": null,
   "metadata": {},
   "outputs": [],
   "source": [
    "fig = plt.figure(figsize =(12, 6))\n",
    "fig.suptitle(\"p value agains change of sample size, dimension = 20\", fontsize = 16)\n",
    "\n",
    "ax = fig.add_subplot(111)\n",
    "\n",
    "ax.boxplot(data_20.T)\n",
    "ax.axhline(0.25)\n",
    "ax.axhline(0.5)\n",
    "ax.axhline(0.75)\n",
    "ax.set_xticklabels([\"100\", \"300\", \"500\", \"1000\"])\n",
    "ax.set_xlabel(\"sample size\")\n",
    "ax.set_ylabel(\"p value\")\n",
    "\n",
    "plt.show()"
   ]
  },
  {
   "cell_type": "code",
   "execution_count": null,
   "metadata": {},
   "outputs": [],
   "source": [
    "dim50_sieze100 = pValue_meanshift(100, 50, 1, meanvalue=zeromean, iter = 300)"
   ]
  },
  {
   "cell_type": "code",
   "execution_count": null,
   "metadata": {},
   "outputs": [],
   "source": [
    "dim50_sieze300 = pValue_meanshift(300, 50, 1, meanvalue=zeromean, iter = 300)"
   ]
  },
  {
   "cell_type": "code",
   "execution_count": null,
   "metadata": {},
   "outputs": [],
   "source": [
    "dim50_sieze500 = pValue_meanshift(500, 50, 1, meanvalue=zeromean, iter = 300)"
   ]
  },
  {
   "cell_type": "code",
   "execution_count": null,
   "metadata": {},
   "outputs": [],
   "source": [
    "dim50_sieze1000 = pValue_meanshift(1000, 50, 1, meanvalue=zeromean, iter = 300)"
   ]
  },
  {
   "cell_type": "code",
   "execution_count": null,
   "metadata": {},
   "outputs": [],
   "source": [
    "dim50_sieze2000 = pValue_meanshift(2000, 50, 1, meanvalue=zeromean, iter = 300)"
   ]
  },
  {
   "cell_type": "code",
   "execution_count": null,
   "metadata": {},
   "outputs": [],
   "source": [
    "data_50 = np.array([dim50_sieze100[0], dim50_sieze300[0], dim50_sieze500[0], dim50_sieze1000[0], dim50_sieze2000[0]])"
   ]
  },
  {
   "cell_type": "code",
   "execution_count": null,
   "metadata": {},
   "outputs": [],
   "source": [
    "fig = plt.figure(figsize =(12, 6))\n",
    "fig.suptitle(\"p value agains change of sample size, dimension = 50\", fontsize = 16)\n",
    "\n",
    "ax = fig.add_subplot(111)\n",
    "\n",
    "ax.boxplot(data_50.T)\n",
    "ax.axhline(0.25)\n",
    "ax.axhline(0.5)\n",
    "ax.axhline(0.75)\n",
    "ax.set_xticklabels([\"100\", \"300\", \"500\", \"1000\", \"2000\"])\n",
    "ax.set_xlabel(\"sample size\")\n",
    "ax.set_ylabel(\"p value\")\n",
    "\n",
    "plt.show()"
   ]
  },
  {
   "cell_type": "code",
   "execution_count": null,
   "metadata": {},
   "outputs": [],
   "source": [
    "meanarray = np.linspace(0, 0.9, 4)\n",
    "\n",
    "p_meanshift_20D = pValue_meanshift(1000, 20, 1, meanvalue=meanarray, iter = 100)"
   ]
  },
  {
   "cell_type": "code",
   "execution_count": null,
   "metadata": {},
   "outputs": [],
   "source": [
    "fig = plt.figure(figsize =(12, 6))\n",
    "fig.suptitle(\"p value against mean shift, dimension = 20\", fontsize = 16)\n",
    "\n",
    "ax = fig.add_subplot(121)\n",
    "ax.boxplot(p_meanshift_20D.T)\n",
    "ax.set_xticklabels([0, 0.3, 0.6, 0.9])\n",
    "ax.set_xlabel(\"mean value\")\n",
    "ax.set_ylabel(\"p value\")\n",
    "\n",
    "ax1 = fig.add_subplot(122)\n",
    "ax1.boxplot(p_meanshift_20D.T)\n",
    "ax1.set_xticklabels([0, 0.2, 0.4, 0.6, 0.8, 1])\n",
    "ax1.set_xlabel(\"mean value\")\n",
    "ax1.set_ylabel(\"p value\")\n",
    "ax1.set_ylim(0, 0.5)\n",
    " \n",
    "# show plot\n",
    "plt.show()"
   ]
  },
  {
   "cell_type": "code",
   "execution_count": null,
   "metadata": {},
   "outputs": [],
   "source": [
    "mean_shift_1 = np.array([0.2])\n",
    "\n",
    "p_bdw1_1D = pValue_meanshift(1000, 1, 1, meanvalue=mean_shift_1, iter = 100)[0]"
   ]
  },
  {
   "cell_type": "code",
   "execution_count": null,
   "metadata": {},
   "outputs": [],
   "source": [
    "p_bdw2_1D = pValue_meanshift(1000, 1, 2, meanvalue=mean_shift_1, iter = 100)[0]"
   ]
  },
  {
   "cell_type": "code",
   "execution_count": null,
   "metadata": {},
   "outputs": [],
   "source": [
    "p_bdw5_1D = pValue_meanshift(1000, 1, 5, meanvalue=mean_shift_1, iter = 100)[0]"
   ]
  },
  {
   "cell_type": "code",
   "execution_count": null,
   "metadata": {},
   "outputs": [],
   "source": [
    "p_bdw10_1D = pValue_meanshift(1000, 1, 10, meanvalue=mean_shift_1, iter = 100)[0]"
   ]
  },
  {
   "cell_type": "code",
   "execution_count": null,
   "metadata": {},
   "outputs": [],
   "source": [
    "data_bdw_1D = np.array([p_bdw1_1D, p_bdw2_1D, p_bdw5_1D, p_bdw10_1D])"
   ]
  },
  {
   "cell_type": "code",
   "execution_count": null,
   "metadata": {},
   "outputs": [],
   "source": [
    "fig = plt.figure(figsize =(12, 6))\n",
    "fig.suptitle(\"p value against bandwidth, dimension = 1, mean = 0.2\", fontsize = 16)\n",
    "\n",
    "ax = fig.add_subplot(121)\n",
    "ax.boxplot(data_bdw_1D.T)\n",
    "ax.set_xticklabels([\"1, 2, 5, 10\"])\n",
    "ax.set_xlabel(\"bandwidth\")\n",
    "ax.set_ylabel(\"p value\")\n",
    "\n",
    "ax1 = fig.add_subplot(122)\n",
    "ax1.boxplot(data_bdw_1D.T)\n",
    "ax1.set_xticklabels([\"1, 2, 5, 10\"])\n",
    "ax1.set_xlabel(\"bandwidth\")\n",
    "ax1.set_ylabel(\"p value\")\n",
    "ax1.set_ylim(0, 0.5)\n",
    " \n",
    "# show plot\n",
    "plt.show()"
   ]
  },
  {
   "cell_type": "code",
   "execution_count": null,
   "metadata": {},
   "outputs": [],
   "source": [
    "p_bdw1_5D = pValue_meanshift(1000, 5, 1, meanvalue=mean_shift_1, iter = 100)[0]"
   ]
  },
  {
   "cell_type": "code",
   "execution_count": null,
   "metadata": {},
   "outputs": [],
   "source": [
    "p_bdw2_5D = pValue_meanshift(1000, 5, 2, meanvalue=mean_shift_1, iter = 100)[0]"
   ]
  },
  {
   "cell_type": "code",
   "execution_count": null,
   "metadata": {},
   "outputs": [],
   "source": [
    "p_bdw5_5D = pValue_meanshift(1000, 5, 5, meanvalue=mean_shift_1, iter = 100)[0]"
   ]
  },
  {
   "cell_type": "code",
   "execution_count": null,
   "metadata": {},
   "outputs": [],
   "source": [
    "p_bdw10_5D = pValue_meanshift(1000, 5, 10, meanvalue=mean_shift_1, iter = 100)[0]"
   ]
  },
  {
   "cell_type": "code",
   "execution_count": null,
   "metadata": {},
   "outputs": [],
   "source": [
    "data_bdw_5D = np.array([p_bdw1_5D, p_bdw2_5D, p_bdw5_5D, p_bdw10_5D])"
   ]
  },
  {
   "cell_type": "code",
   "execution_count": null,
   "metadata": {},
   "outputs": [],
   "source": [
    "fig = plt.figure(figsize =(12, 6))\n",
    "fig.suptitle(\"p value against bandwidth, dimension = 5, mean = 0.2\", fontsize = 16)\n",
    "\n",
    "ax = fig.add_subplot(121)\n",
    "ax.boxplot(data_bdw_5D.T)\n",
    "ax.set_xticklabels([\"1, 2, 5, 10\"])\n",
    "ax.set_xlabel(\"bandwidth\")\n",
    "ax.set_ylabel(\"p value\")\n",
    "\n",
    "ax1 = fig.add_subplot(122)\n",
    "ax1.boxplot(data_bdw_5D.T)\n",
    "ax1.set_xticklabels([\"1, 2, 5, 10\"])\n",
    "ax1.set_xlabel(\"bandwidth\")\n",
    "ax1.set_ylabel(\"p value\")\n",
    "ax1.set_ylim(0, 0.5)\n",
    " \n",
    "# show plot\n",
    "plt.show()"
   ]
  },
  {
   "cell_type": "code",
   "execution_count": null,
   "metadata": {},
   "outputs": [],
   "source": [
    "vararray = np.linspace(1, 2, 3)\n",
    "\n",
    "p_varshift_20D = pValue_varshift(1000, 20, 1, varvalue=vararray, iter = 100)"
   ]
  },
  {
   "cell_type": "code",
   "execution_count": null,
   "metadata": {},
   "outputs": [],
   "source": [
    "fig = plt.figure(figsize =(12, 6))\n",
    "fig.suptitle(\"p value against variance shift, dimension = 20\", fontsize = 16)\n",
    "\n",
    "ax = fig.add_subplot(111)\n",
    "ax.boxplot(p_varshift_20D.T)\n",
    "ax.set_xticklabels([1, 1.5, 2])\n",
    "ax.set_xlabel(\"variance value\")\n",
    "ax.set_ylabel(\"p value\")\n",
    "\n",
    "plt.show()"
   ]
  },
  {
   "cell_type": "code",
   "execution_count": 16,
   "metadata": {},
   "outputs": [
    {
     "name": "stdout",
     "output_type": "stream",
     "text": [
      "the 1th mean finished !\n",
      "the 1th mean finished !\n",
      "the 1th mean finished !\n",
      "the 1th mean finished !\n",
      "the 1th mean finished !\n"
     ]
    }
   ],
   "source": [
    "mean_shift_2 = np.array([0.3])\n",
    "\n",
    "p_meanshift2_1D = pValue_meanshift(100, 1, 1, meanvalue=mean_shift_2, iter=100)[0]\n",
    "p_meanshift2_5D = pValue_meanshift(100, 5, 1, meanvalue=mean_shift_2, iter=100)[0]\n",
    "p_meanshift2_10D = pValue_meanshift(100, 10, 1, meanvalue=mean_shift_2, iter=100)[0]\n",
    "p_meanshift2_20D = pValue_meanshift(100, 20, 1, meanvalue=mean_shift_2, iter=100)[0]\n",
    "p_meanshift2_50D = pValue_meanshift(100, 50, 1, meanvalue=mean_shift_2, iter=100)[0]"
   ]
  },
  {
   "cell_type": "code",
   "execution_count": 19,
   "metadata": {},
   "outputs": [],
   "source": [
    "data_meanshift2 = np.array([p_meanshift2_1D, p_meanshift2_5D, p_meanshift2_10D, p_meanshift2_20D, p_meanshift2_50D])"
   ]
  },
  {
   "cell_type": "code",
   "execution_count": 20,
   "metadata": {},
   "outputs": [
    {
     "data": {
      "image/png": "[encoded data removed]",
      "text/plain": [
       "<Figure size 1200x600 with 1 Axes>"
      ]
     },
     "metadata": {},
     "output_type": "display_data"
    }
   ],
   "source": [
    "fig = plt.figure(figsize =(12, 6))\n",
    "fig.suptitle(\"p value against different dimension, sample size = 100\", fontsize = 16)\n",
    "\n",
    "ax = fig.add_subplot(111)\n",
    "ax.boxplot(data_meanshift2.T)\n",
    "ax.set_xticklabels([\"1D\", \"5D\", \"10D\", \"20D\", \"50D\"])\n",
    "ax.set_xlabel(\"dimension\")\n",
    "ax.set_ylabel(\"p value\")\n",
    "\n",
    "plt.show()"
   ]
  },
  {
   "cell_type": "code",
   "execution_count": 21,
   "metadata": {},
   "outputs": [
    {
     "name": "stdout",
     "output_type": "stream",
     "text": [
      "the 1th mean finished !\n"
     ]
    }
   ],
   "source": [
    "p_meanshift1_1D = pValue_meanshift(100, 1, 1, meanvalue=mean_shift_2, iter=100)[0]"
   ]
  },
  {
   "cell_type": "code",
   "execution_count": 22,
   "metadata": {},
   "outputs": [
    {
     "name": "stdout",
     "output_type": "stream",
     "text": [
      "the 1th mean finished !\n"
     ]
    }
   ],
   "source": [
    "p_meanshift1_5D = pValue_meanshift(300, 5, 1, meanvalue=mean_shift_2, iter=100)[0]"
   ]
  },
  {
   "cell_type": "code",
   "execution_count": 23,
   "metadata": {},
   "outputs": [
    {
     "name": "stdout",
     "output_type": "stream",
     "text": [
      "the 1th mean finished !\n"
     ]
    }
   ],
   "source": [
    "p_meanshift1_10D = pValue_meanshift(500, 10, 1, meanvalue=mean_shift_2, iter=100)[0]"
   ]
  },
  {
   "cell_type": "code",
   "execution_count": 24,
   "metadata": {},
   "outputs": [
    {
     "name": "stdout",
     "output_type": "stream",
     "text": [
      "the 1th mean finished !\n"
     ]
    }
   ],
   "source": [
    "p_meanshift1_20D = pValue_meanshift(1000, 20, 1, meanvalue=mean_shift_2, iter=100)[0]"
   ]
  },
  {
   "cell_type": "code",
   "execution_count": 25,
   "metadata": {},
   "outputs": [],
   "source": [
    "p_meanshift1_50D = pValue_meanshift(2000, 50, 1, meanvalue=mean_shift_2, iter=100)[0]"
   ]
  },
  {
   "cell_type": "code",
   "execution_count": null,
   "metadata": {},
   "outputs": [],
   "source": [
    "data_meanshift1 = np.array([p_meanshift1_1D, p_meanshift1_5D, p_meanshift1_10D, p_meanshift1_20D, p_meanshift1_50D])"
   ]
  },
  {
   "cell_type": "code",
   "execution_count": null,
   "metadata": {},
   "outputs": [],
   "source": [
    "# Just for entertaining\n",
    "\n",
    "fig = plt.figure(figsize =(12, 6))\n",
    "fig.suptitle(\"p value against different dimension and sample size\", fontsize = 16)\n",
    "\n",
    "ax = fig.add_subplot(111)\n",
    "ax.boxplot(data_meanshift2.T)\n",
    "ax.set_xticklabels([\"1D,s=100\", \"5D,s=300\", \"10D,s=500\", \"20D,s=1000\", \"50D,s=2000\"])\n",
    "ax.set_xlabel(\"dimension\")\n",
    "ax.set_ylabel(\"p value\")\n",
    "\n",
    "plt.show()"
   ]
  },
  {
   "cell_type": "code",
   "execution_count": null,
   "metadata": {},
   "outputs": [],
   "source": []
  }
 ],
 "metadata": {
  "kernelspec": {
   "display_name": "Python 3.9.13 ('base')",
   "language": "python",
   "name": "python3"
  },
  "language_info": {
   "codemirror_mode": {
    "name": "ipython",
    "version": 3
   },
   "file_extension": ".py",
   "mimetype": "text/x-python",
   "name": "python",
   "nbconvert_exporter": "python",
   "pygments_lexer": "ipython3",
   "version": "3.9.13"
  },
  "orig_nbformat": 4,
  "vscode": {
   "interpreter": {
    "hash": "ee9914ed070dfafc1319cfccc487467fe71c8a0aea7cd17d7993e817f77b0864"
   }
  }
 },
 "nbformat": 4,
 "nbformat_minor": 2
}
