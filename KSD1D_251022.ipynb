{
  "cells": [
    {
      "cell_type": "code",
      "execution_count": 1,
      "metadata": {
        "id": "HJ2Zcan-xnHw"
      },
      "outputs": [],
      "source": [
        "import numpy as np\n",
        "from scipy import stats\n",
        "import matplotlib.pyplot as plt"
      ]
    },
    {
      "cell_type": "code",
      "execution_count": 2,
      "metadata": {
        "id": "kEgUBSEfxnHy"
      },
      "outputs": [],
      "source": [
        "def target_pdf(x):\n",
        "    qx = np.exp(- x**2 / 2) / np.sqrt(2 * np.pi)\n",
        "    return qx\n",
        "\n",
        "def MHprocedure(x0, sig):\n",
        "    xpre = np.random.normal(loc = x0, scale = sig) # chose normal distribution as proposal density\n",
        "    alphapre = target_pdf(xpre) / target_pdf(x0) # alphapre = (target_pdf(xpre) * proposal(x0|xpre)) / (target_pdf(x0) * proposal(xpre|x0))\n",
        "    alpha = min(1, alphapre)\n",
        "    # since normal distribution is symmetric, proposal(x0|xpre) and proposal(xpre|x0) cancel out\n",
        "\n",
        "    u = np.random.rand()\n",
        "    if u <= alpha:\n",
        "        x1 = xpre\n",
        "        acc = 1\n",
        "    else:\n",
        "        x1 = x0\n",
        "        acc = 0\n",
        "    return x1, acc\n",
        "\n",
        "def run_MCMC(x0, sample_size, sig = 1, burnin = 100):\n",
        "    # Burn-in Periods\n",
        "    for _ in range(burnin):\n",
        "        x0, _ = MHprocedure(x0, sig)\n",
        "    \n",
        "    X = np.zeros(sample_size)\n",
        "    X[0] = x0\n",
        "    Acp = 0\n",
        "    for i in range(1, sample_size):\n",
        "        xi = X[i - 1]\n",
        "        X[i], acc0 = MHprocedure(xi, sig)\n",
        "        Acp += acc0\n",
        "    \n",
        "    Accrate = Acp / (sample_size - 1)\n",
        "    \n",
        "    return X, Accrate"
      ]
    },
    {
      "cell_type": "code",
      "execution_count": 3,
      "metadata": {
        "id": "Hi5HlCk9xnHz"
      },
      "outputs": [],
      "source": [
        "def score_1Dnormal(x):\n",
        "    # Sq(x) = q'(x) / q(x) = -x\n",
        "    return -x\n",
        "\n",
        "def kernel_function(x, y):\n",
        "    return np.exp(- (x - y) ** 2 / 2)\n",
        "    # gradient wrt x is -(x - y) * kernel_function(x, y)\n",
        "    # gradient wrt y is (x - y) * kernel_function(x, y)\n",
        "    # second derivative wrt x, y is (1 -(x - y)^2) * kernel_function(x, y)\n",
        "\n",
        "\n",
        "def UqMatrix(X):\n",
        "    \"\"\"\n",
        "    param x: array with length n\n",
        "    \"\"\"\n",
        "    n = len(X)\n",
        "    UM = np.zeros((n, n), dtype=np.float64)\n",
        "    for i in range(n):\n",
        "        xi = X[i]\n",
        "        for j in range(n):\n",
        "            xj = X[j]\n",
        "            kxy = kernel_function(xi, xj)\n",
        "            uij = (- xi) * kxy * (- xj) + (- xi) * (xi - xj) * kxy + (- xj) * (-1 * (xi - xj)) * kxy + (1 - (xi - xj) ** 2) * kxy\n",
        "            UM[i, j] = uij\n",
        "    \n",
        "    return UM\n",
        "\n",
        "\n",
        "def KSD_1D(X, U):\n",
        "    \"\"\"\n",
        "    param X: a 1D array with length n\n",
        "    param U: a n x n array\n",
        "    \"\"\"\n",
        "    n = len(X)\n",
        "    diag_sum = sum(U.diagonal())\n",
        "    matrix_sum = sum(sum(U))\n",
        "    KSD = (matrix_sum - diag_sum) / (n * (n - 1))\n",
        "    return KSD"
      ]
    },
    {
      "cell_type": "code",
      "execution_count": 4,
      "metadata": {
        "id": "6reO5TvexnH0"
      },
      "outputs": [],
      "source": [
        "def Bootstrap_1D(X, U, m = 50, epochshow = False):\n",
        "    \"\"\"\n",
        "    param X: a 1D array with length n\n",
        "    param U: a n x n array\n",
        "    \"\"\"\n",
        "    n = len(X)\n",
        "    multi_prob = np.repeat((1 / n), n)\n",
        "\n",
        "    epoch = 0\n",
        "    Sstar = np.zeros(m, dtype = np.float64)\n",
        "    for i in range(m):\n",
        "        Weight = np.random.multinomial(n, multi_prob)\n",
        "        Wadjust = (Weight - 1) / n\n",
        "        WMatrix = np.outer(Wadjust, Wadjust)\n",
        "        SMatrix = WMatrix * U\n",
        "        diag_sum = sum(SMatrix.diagonal())\n",
        "        matrix_sum = sum(sum(SMatrix))\n",
        "        Si = matrix_sum - diag_sum\n",
        "        Sstar[i] = Si\n",
        "        if (epochshow == True) & ((i+1) % 100 == 0):\n",
        "            print(f\"we are in epoch {i+1}\")\n",
        "\n",
        "    return Sstar\n",
        "\n",
        "def approx_pvalue(S, Sstar):\n",
        "    \"\"\"\n",
        "    param S: unbiased estimation of KSD, scalar\n",
        "    param Sstar: unbiased m bootstrap sample KSD\n",
        "    \"\"\"\n",
        "    m = len(Sstar)\n",
        "    TFarray = Sstar[Sstar >= S]\n",
        "    count = len(TFarray)\n",
        "    return count / m"
      ]
    },
    {
      "cell_type": "code",
      "execution_count": 9,
      "metadata": {},
      "outputs": [
        {
          "name": "stdout",
          "output_type": "stream",
          "text": [
            "finish N(0.0, 1)\n",
            "mean pvalue: 0.4502\n",
            "finish N(0.1, 1)\n",
            "mean pvalue: 0.2846\n",
            "finish N(0.2, 1)\n",
            "mean pvalue: 0.16730000000000003\n",
            "finish N(0.3, 1)\n",
            "mean pvalue: 0.027600000000000003\n",
            "finish N(0.4, 1)\n",
            "mean pvalue: 0.0261\n",
            "finish N(0.5, 1)\n",
            "mean pvalue: 0.0026000000000000003\n"
          ]
        }
      ],
      "source": [
        "meanvalue = np.linspace(0, 0.5, 6)\n",
        "n_mean = len(meanvalue)\n",
        "mean_p = np.zeros(n_mean, dtype=np.float64)\n",
        "for i in range(n_mean):\n",
        "    mean = meanvalue[i]\n",
        "    p = np.zeros(10, dtype=np.float64)\n",
        "    for j in range(10):\n",
        "        Gaussian_X = np.random.normal(mean, 1, 100) # N(i, 1)\n",
        "        Umatrix = UqMatrix(Gaussian_X)\n",
        "        KSD = KSD_1D(Gaussian_X, Umatrix)\n",
        "        KSDstar = Bootstrap_1D(Gaussian_X, Umatrix, m = 1000)\n",
        "        p[j] = approx_pvalue(KSD, KSDstar)\n",
        "    mean_p[i] = p.mean()\n",
        "    print(f\"finish N({i / 10}, 1)\")\n",
        "    print(f\"mean pvalue: {mean_p[i]}\")"
      ]
    },
    {
      "cell_type": "code",
      "execution_count": 10,
      "metadata": {},
      "outputs": [
        {
          "name": "stdout",
          "output_type": "stream",
          "text": [
            "[0.4502 0.2846 0.1673 0.0276 0.0261 0.0026]\n"
          ]
        },
        {
          "data": {
            "text/plain": [
              "[<matplotlib.lines.Line2D at 0x221ef90a460>]"
            ]
          },
          "execution_count": 10,
          "metadata": {},
          "output_type": "execute_result"
        },
        {
          "data": {
            "image/png": "[encoded data removed]",
            "text/plain": [
              "<Figure size 640x480 with 1 Axes>"
            ]
          },
          "metadata": {},
          "output_type": "display_data"
        }
      ],
      "source": [
        "print(mean_p)\n",
        "plt.plot(meanvalue, mean_p, 'rx')\n",
        "plt.plot(meanvalue, mean_p)"
      ]
    },
    {
      "cell_type": "code",
      "execution_count": 7,
      "metadata": {
        "colab": {
          "base_uri": "https://localhost:8080/"
        },
        "id": "HbA71JAsxnH0",
        "outputId": "d222727c-1e42-4df9-d7e7-513e65ce51ba"
      },
      "outputs": [
        {
          "name": "stdout",
          "output_type": "stream",
          "text": [
            "finish N(0.0, 1)\n",
            "mean pvalue: 0.43129999999999996\n",
            "finish N(0.1, 1)\n",
            "mean pvalue: 0.045\n",
            "finish N(0.2, 1)\n",
            "mean pvalue: 0.0\n",
            "finish N(0.3, 1)\n",
            "mean pvalue: 0.0\n",
            "finish N(0.4, 1)\n",
            "mean pvalue: 0.0\n",
            "finish N(0.5, 1)\n",
            "mean pvalue: 0.0\n"
          ]
        }
      ],
      "source": [
        "mean_p1 = np.zeros(n_mean, dtype=np.float64)\n",
        "for i in range(n_mean):\n",
        "    mean = meanvalue[i]\n",
        "    p = np.zeros(10, dtype=np.float64)\n",
        "    for j in range(10):\n",
        "        Gaussian_X = np.random.normal(mean, 1, 1000) # N(i, 1)\n",
        "        Umatrix = UqMatrix(Gaussian_X)\n",
        "        KSD = KSD_1D(Gaussian_X, Umatrix)\n",
        "        KSDstar = Bootstrap_1D(Gaussian_X, Umatrix, m = 1000)\n",
        "        p[j] = approx_pvalue(KSD, KSDstar)\n",
        "    mean_p1[i] = p.mean()\n",
        "    print(f\"finish N({i / 10}, 1)\")\n",
        "    print(f\"mean pvalue: {mean_p1[i]}\")\n"
      ]
    },
    {
      "cell_type": "code",
      "execution_count": 8,
      "metadata": {
        "colab": {
          "base_uri": "https://localhost:8080/",
          "height": 317
        },
        "id": "dypVByRPxnH1",
        "outputId": "712a76fd-7d4b-48b6-af1a-55750830e7e8"
      },
      "outputs": [
        {
          "name": "stdout",
          "output_type": "stream",
          "text": [
            "[0.4313 0.045  0.     0.     0.     0.    ]\n"
          ]
        },
        {
          "data": {
            "text/plain": [
              "[<matplotlib.lines.Line2D at 0x221ef891f70>]"
            ]
          },
          "execution_count": 8,
          "metadata": {},
          "output_type": "execute_result"
        },
        {
          "data": {
            "image/png": "[encoded data removed]",
            "text/plain": [
              "<Figure size 640x480 with 1 Axes>"
            ]
          },
          "metadata": {},
          "output_type": "display_data"
        }
      ],
      "source": [
        "import matplotlib.pyplot as plt\n",
        "print(mean_p1)\n",
        "plt.plot(meanvalue, mean_p1, 'rx')\n",
        "plt.plot(meanvalue, mean_p1)"
      ]
    },
    {
      "cell_type": "code",
      "execution_count": null,
      "metadata": {
        "id": "pN8kFURwxnH2"
      },
      "outputs": [],
      "source": []
    }
  ],
  "metadata": {
    "colab": {
      "collapsed_sections": [],
      "provenance": []
    },
    "kernelspec": {
      "display_name": "Python 3.9.13 ('base')",
      "language": "python",
      "name": "python3"
    },
    "language_info": {
      "codemirror_mode": {
        "name": "ipython",
        "version": 3
      },
      "file_extension": ".py",
      "mimetype": "text/x-python",
      "name": "python",
      "nbconvert_exporter": "python",
      "pygments_lexer": "ipython3",
      "version": "3.8.10"
    },
    "orig_nbformat": 4,
    "vscode": {
      "interpreter": {
        "hash": "ee9914ed070dfafc1319cfccc487467fe71c8a0aea7cd17d7993e817f77b0864"
      }
    }
  },
  "nbformat": 4,
  "nbformat_minor": 0
}
