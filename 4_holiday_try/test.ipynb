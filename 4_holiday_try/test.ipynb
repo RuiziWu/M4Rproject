{
 "cells": [
  {
   "cell_type": "code",
   "execution_count": 1,
   "metadata": {},
   "outputs": [],
   "source": [
    "import numpy as np\n",
    "import matplotlib.pyplot as plt"
   ]
  },
  {
   "cell_type": "code",
   "execution_count": null,
   "metadata": {},
   "outputs": [],
   "source": [
    "TP_ALL_ldKL = np.loadtxt(\"TP_ALL_ldKL_iter300.csv\", delimiter = \",\", dtype = float)\n",
    "TP_ALL_liKL = np.loadtxt(\"TP_ALL_liKL_iter300.csv\", delimiter = \",\", dtype = float)\n",
    "TP_ALL_ncKL = np.loadtxt(\"TP_ALL_ncKL_iter300.csv\", delimiter = \",\", dtype = float)\n",
    "TP_ALL_sqiKL = np.loadtxt(\"TP_ALL_sqiKL_iter300.csv\", delimiter = \",\", dtype = float)\n",
    "TP_ONE_sqiKL = np.loadtxt(\"TP_ONE_sqiKL_iter300.csv\", delimiter = \",\", dtype = float)\n",
    "TP_ONE_cKL = np.loadtxt(\"TP_ONE_cKL_iter300.csv\", delimiter = \",\", dtype = float)\n",
    "TP_ONE_ldKL = np.loadtxt(\"TP_ONE_ldKL_iter300.csv\", delimiter = \",\", dtype = float)\n",
    "TP_ONE_qdKL = np.loadtxt(\"TP_ONE_qdKL_iter300.csv\", delimiter = \",\", dtype = float)\n",
    "\n",
    "TP_onefourth_iKL = np.loadtxt(\"TP_onefourthh_iKL_iter300.csv\", delimiter = \",\", dtype = float)\n",
    "TP_oneeighth_iKL = np.loadtxt(\"TP_oneeighth_iKL_iter300.csv\", delimiter = \",\", dtype = float)\n",
    "TP_onesixteenth_iKL = np.loadtxt(\"TP_onesixteenth_iKL_iter300.csv\", delimiter = \",\", dtype = float)"
   ]
  },
  {
   "cell_type": "code",
   "execution_count": null,
   "metadata": {},
   "outputs": [],
   "source": [
    "x_axis = np.array([\"1\", \"2\", \"4\", \"6\", \"8\", \"10\", \"12\", \"14\", \"16\", \"18\", \"20\"])\n",
    "\n",
    "\n",
    "fig = plt.figure(figsize=(20, 6))\n",
    "\n",
    "ax = fig.add_subplot(121)\n",
    "# ax.set_title(\"Constant KL divergence\")\n",
    "ax.plot(x_axis, TP_ONE_cKL, 'b', label=\"constant\")\n",
    "ax.plot(x_axis, TP_ALL_ncKL, 'g', label=\"converging\")\n",
    "ax.plot(x_axis, TP_ONE_ldKL, 'r', label=\"linear decrease\")\n",
    "ax.plot(x_axis, TP_ONE_qdKL, 'y', label=\"quadratic decrease\")\n",
    "ax.plot(x_axis, TP_ONE_sqiKL, '-o', label=\"square-root increase\")\n",
    "ax.plot(x_axis, TP_ALL_liKL, '-x', label=\"linear increase\")\n",
    "ax.set_xlabel(\"dimension\", fontsize=14)\n",
    "ax.set_ylabel(\"power\", fontsize=14)\n",
    "ax.legend(title=\"Behaviour of KL divergence\", loc='center left', bbox_to_anchor=(1, 0.5), fontsize=12, title_fontsize=12)\n",
    "\n",
    "plt.show()"
   ]
  }
 ],
 "metadata": {
  "kernelspec": {
   "display_name": "Python 3",
   "language": "python",
   "name": "python3"
  },
  "language_info": {
   "codemirror_mode": {
    "name": "ipython",
    "version": 3
   },
   "file_extension": ".py",
   "mimetype": "text/x-python",
   "name": "python",
   "nbconvert_exporter": "python",
   "pygments_lexer": "ipython3",
   "version": "3.8.10"
  },
  "orig_nbformat": 4,
  "vscode": {
   "interpreter": {
    "hash": "31f2aee4e71d21fbe5cf8b01ff0e069b9275f58929596ceb00d14d90e3e16cd6"
   }
  }
 },
 "nbformat": 4,
 "nbformat_minor": 2
}
