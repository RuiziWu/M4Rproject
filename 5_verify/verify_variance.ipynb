{
 "cells": [
  {
   "cell_type": "code",
   "execution_count": 3,
   "metadata": {},
   "outputs": [],
   "source": [
    "import numpy as np"
   ]
  },
  {
   "cell_type": "code",
   "execution_count": 30,
   "metadata": {},
   "outputs": [],
   "source": [
    "def True_KSD(mean, dim, bandwidth = True):\n",
    "    if bandwidth == True:\n",
    "        r = np.sqrt(dim) / 2\n",
    "    else: \n",
    "        r = bandwidth\n",
    "    KSD = (r**dim * np.dot(mean, mean)) / (r**2 + 2)**(dim/2)\n",
    "    return KSD"
   ]
  },
  {
   "cell_type": "code",
   "execution_count": 31,
   "metadata": {},
   "outputs": [],
   "source": [
    "def Estimated_Variance(sampleKSD, mean, dim, bandwidth):\n",
    "    mu = True_KSD(mean, dim, bandwidth=bandwidth)\n",
    "    centered_KSD = (sampleKSD - mu)**2\n",
    "    return np.mean(centered_KSD)"
   ]
  },
  {
   "cell_type": "code",
   "execution_count": 32,
   "metadata": {},
   "outputs": [],
   "source": [
    "KSD_DATA = np.loadtxt(\"KSD_dim100_inter5.csv\", delimiter = \",\", dtype = float)"
   ]
  },
  {
   "cell_type": "code",
   "execution_count": 34,
   "metadata": {},
   "outputs": [
    {
     "data": {
      "text/plain": [
       "0.003007114685659914"
      ]
     },
     "execution_count": 34,
     "metadata": {},
     "output_type": "execute_result"
    }
   ],
   "source": [
    "dim = 5\n",
    "ksd_dim5 = np.loadtxt(\"KSD_dim5_bandwidth.csv\", delimiter = \",\", dtype = float)\n",
    "mean = np.zeros(dim)\n",
    "mean[0] = 1\n",
    "\n",
    "Estimated_Variance(ksd_dim5, mean, dim, bandwidth=0.1)"
   ]
  },
  {
   "cell_type": "code",
   "execution_count": 35,
   "metadata": {},
   "outputs": [],
   "source": [
    "def True_variance(mean, dim, samplesize, bandwidth = True):\n",
    "    if bandwidth == True:\n",
    "        r = np.sqrt(dim) / 2\n",
    "    else: \n",
    "        r = bandwidth\n",
    "    n = samplesize\n",
    "    d = dim\n",
    "    u2 = np.dot(mean, mean)\n",
    "    u4 = u2**2\n",
    "\n",
    "    coeff_cov = r**(2 * d) * (r**2 + 1)**(- d / 2) * (r**2 + 3)**(- d / 2)\n",
    "    coeff_var = r**(2 * d) * (r**2 + 4)** (- d / 2)\n",
    "    coeff_both = r**(2 * d) * ( r**2 + 2)**(-d)\n",
    "\n",
    "    cov_const = (4 * d**2 * r**16 + d * (8 * r**16 + 4 * r**12 + 16 * r**10 + 12 * r**8) + r**8 + 8 * r**6 + 22 * r**4 + 24 * r**2 + 9) / (r**12 * (r**8 + 8 * r**6 + 22 * r**4 + 24 * r**2 + 9))\n",
    "    cov_u2 = (d * (4 * r**16 + 24 * r ** 14 + 32 * r**12 + 24 * r**10 + 12 * r**8) + r**18 - 6 * r**16 - 7 * r**14 + 40 * r**12 - 3 * r**10 + 14 * r**8 + 133 * r**6 + 102 * r**4 + 60 * r**2 + 18) / (r**6 * (r**12 + 10 * r**10 + 39 * r**8 + 76 * r**6 + 79 * r**4 + 42 * r**2 + 9))\n",
    "    cov_u4 = (r**2 * (4 * r**12 + 47 * r**10 + 122 * r**8 + 186 * r**6 + 216 * r**4 + 361 * r**2 + 306)) / ((r**2 + 1)**4 * (r**2 + 3)**2)\n",
    "\n",
    "    term4_const = (d**2 * (6 * r**10 + 12 * r**8 + 4 * r**6 + 8 * r**4 - 16) + d * (r**14 + 6 * r**12 + 22 * r**10 + 32 * r**8 - 4 * r**6 - 40 * r**4 - 32 * r**2 - 32) + r**10 + 10 * r**8 + 32 * r**6 + 32 * r**4) / (r**8 * (r**2 + 2) * (r**2 + 4)**2)\n",
    "    term4_u2 = (2 * d * (6 * r**12 + 20 * r**10 + 4 * r**8 - 24 * r**6 - 28 * r**4 - 48 * r**2 + 32) + r**16 + 7 * r**14 + 28 * r**12 + 78 * r**10 + 134 * r**8 + 124 * r**6 + 48 * r**4 - 64 * r**2 - 192) / (r**8 * (r**8 + 12 * r**6 + 52 * r**4 + 96 * r**2 + 64))\n",
    "    term4_u4 = (r**18 + 10 * r**16 + 40 * r**14 + 80 * r**12 + 64 * r**10 -96 * r**8 -216 * r**6 -192 * r**4 - 128 * r**2 + 488) / (r**8 * (r**2 + 2)**3 * (r**2 + 4)**2)\n",
    "\n",
    "    term6_const = - (d * (d * (3 * r**6 + 8) - 2 * r**8 - 7 * r**6 - 10 * r**4 - 8 * r**2 + 8)) / (r**6 * (r**4 + 8 * r**2 + 16))\n",
    "    term6_u2 = - (d * (2 * r**10 + 22 * r**8 + 52 * r**6 + 40 * r**4 + 32 * r**2 - 32) - 9 * r**10 - 52 * r**8 - 102 * r**6 - 56 * r**4 + 64 * r**2 + 192) / (r**6 * (r**6 + 10 * r**4 + 32 * r**2 + 32))\n",
    "    term6_u4 = - (4 * (2 * r**10 + 14 * r**8 + 31 * r**6 + 20 * r**4 -56)) / (r**6 * (r**2 + 2)**2 * (r**2 + 4)**2)\n",
    "\n",
    "    cov = coeff_cov * (cov_const + cov_u2 * u2 + cov_u4 * u4) - coeff_both * u4\n",
    "    var = coeff_var * (term4_const + term6_const + (term4_u2 + term6_u2) * u2 + (term4_u4 + term6_u4) * u4) - coeff_both * u2\n",
    "\n",
    "    return (4 * n * (n - 1) * (n - 2) * cov + 2 * n * (n - 1) * var) / (n**2 * (n - 1)**2)"
   ]
  },
  {
   "cell_type": "code",
   "execution_count": 37,
   "metadata": {},
   "outputs": [
    {
     "data": {
      "text/plain": [
       "0.02479739884591074"
      ]
     },
     "execution_count": 37,
     "metadata": {},
     "output_type": "execute_result"
    }
   ],
   "source": [
    "True_variance(mean, dim, 1000, bandwidth=0.1)"
   ]
  },
  {
   "cell_type": "code",
   "execution_count": 7,
   "metadata": {},
   "outputs": [
    {
     "data": {
      "text/plain": [
       "0.5000000000000001"
      ]
     },
     "execution_count": 7,
     "metadata": {},
     "output_type": "execute_result"
    }
   ],
   "source": [
    "import math\n",
    "\n",
    "math.log(np.sqrt(5), 5)"
   ]
  },
  {
   "cell_type": "code",
   "execution_count": 9,
   "metadata": {},
   "outputs": [
    {
     "data": {
      "text/plain": [
       "3"
      ]
     },
     "execution_count": 9,
     "metadata": {},
     "output_type": "execute_result"
    }
   ],
   "source": [
    "np.max([1, 2, 3])"
   ]
  },
  {
   "cell_type": "code",
   "execution_count": null,
   "metadata": {},
   "outputs": [],
   "source": []
  }
 ],
 "metadata": {
  "kernelspec": {
   "display_name": "Python 3",
   "language": "python",
   "name": "python3"
  },
  "language_info": {
   "codemirror_mode": {
    "name": "ipython",
    "version": 3
   },
   "file_extension": ".py",
   "mimetype": "text/x-python",
   "name": "python",
   "nbconvert_exporter": "python",
   "pygments_lexer": "ipython3",
   "version": "3.8.10"
  },
  "orig_nbformat": 4,
  "vscode": {
   "interpreter": {
    "hash": "31f2aee4e71d21fbe5cf8b01ff0e069b9275f58929596ceb00d14d90e3e16cd6"
   }
  }
 },
 "nbformat": 4,
 "nbformat_minor": 2
}
