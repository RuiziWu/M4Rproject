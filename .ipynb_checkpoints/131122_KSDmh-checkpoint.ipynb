{
 "cells": [
  {
   "cell_type": "code",
   "execution_count": 1,
   "metadata": {},
   "outputs": [],
   "source": [
    "import numpy as np\n",
    "import matplotlib.pyplot as plt"
   ]
  },
  {
   "cell_type": "code",
   "execution_count": 2,
   "metadata": {},
   "outputs": [],
   "source": [
    "def diff_fn(X, Y):\n",
    "    \"\"\"\n",
    "    X: m x N\n",
    "    Y: m x N\n",
    "    \"\"\"\n",
    "    \n",
    "    X = np.expand_dims(X, axis=1) # m x 1 x N\n",
    "    Y = np.expand_dims(Y, axis=0) # 1 x m x N\n",
    "    diff = X - Y # m x m x N\n",
    "    return diff"
   ]
  },
  {
   "cell_type": "code",
   "execution_count": 3,
   "metadata": {},
   "outputs": [],
   "source": [
    "def diff_norm_sq_fn(X, Y):\n",
    "    \"\"\"\n",
    "    X: m x N\n",
    "    Y: m x N\n",
    "    \"\"\"\n",
    "    \n",
    "    diff = diff_fn(X, Y) # m x m x N\n",
    "    diff_norm_sq = np.sum(diff**2, axis=-1) # m x m\n",
    "    return diff_norm_sq"
   ]
  },
  {
   "cell_type": "code",
   "execution_count": 4,
   "metadata": {},
   "outputs": [],
   "source": [
    "def kernel_function(X, MH_method = True, MH_acc = False, set_bandwidth = False):\n",
    "    \"\"\"\n",
    "    Args:\n",
    "        X: m x N\n",
    "        h: float\n",
    "    \"\"\"\n",
    "\n",
    "    m, N = X.shape\n",
    "\n",
    "    diff_norm_sq = diff_norm_sq_fn(X, X) # m x m\n",
    "    if MH_method == True:\n",
    "        if MH_acc == True:\n",
    "            h = round(np.median(diff_norm_sq), 3)\n",
    "        else:\n",
    "            h = round(np.sqrt(N), 3)\n",
    "    else:\n",
    "        h = set_bandwidth\n",
    "        \n",
    "\n",
    "    kernelMatrix = np.exp(- 1 / (2 * h**2) * diff_norm_sq) # m x m\n",
    "\n",
    "    kernelMatrix_expand  = np.expand_dims(kernelMatrix, axis=-1) # m x m x 1\n",
    "    diff = diff_fn(X, X) # m x m x N\n",
    "    gradKernel1 = - 1 / (h**2) * diff * kernelMatrix_expand # m x m x N\n",
    "    gradKernel2 = - gradKernel1 # m x m x N\n",
    "\n",
    "    hessKernel = (N - (1 / h **2) * diff_norm_sq) * kernelMatrix / h ** 2\n",
    "    \n",
    "    return kernelMatrix, gradKernel1, gradKernel2, hessKernel"
   ]
  },
  {
   "cell_type": "code",
   "execution_count": 5,
   "metadata": {},
   "outputs": [],
   "source": [
    "def UqMatrix(X, MH_method = True, MH_acc = False, set_bandwidth = False):\n",
    "    \n",
    "    kernelMatrix, gradKernel1, gradKernel2, hessKernel = kernel_function(X, MH_method = MH_method, MH_acc = MH_acc, set_bandwidth = set_bandwidth)\n",
    "    X_expand = np.expand_dims(-X, axis = 1) # m x 1 x N\n",
    "    Y_expand = np.expand_dims(-X, axis = 0) # 1 x m x N\n",
    "    UMatrix = kernelMatrix * np.dot(X, X.T) + np.sum(X_expand * gradKernel2, axis = -1) + np.sum(Y_expand * gradKernel1, axis = -1) + hessKernel\n",
    "\n",
    "    return UMatrix"
   ]
  },
  {
   "cell_type": "code",
   "execution_count": 6,
   "metadata": {},
   "outputs": [],
   "source": [
    "def KSD(X, U):\n",
    "\n",
    "    m, _ = X.shape\n",
    "    matDiag = np.sum(U.diagonal())\n",
    "    matSum = U.sum()\n",
    "    KSD = (matSum - matDiag) / (m * (m - 1))\n",
    "    \n",
    "    return KSD"
   ]
  },
  {
   "cell_type": "code",
   "execution_count": 7,
   "metadata": {},
   "outputs": [],
   "source": [
    "def Bootstrap_KSD(U, size = 1000, epochshow = False):\n",
    "    \"\"\"\n",
    "    \n",
    "    \"\"\"\n",
    "\n",
    "    m, _ = U.shape\n",
    "    multi_prob = np.repeat((1 / m), m)\n",
    "\n",
    "    Sstar = np.zeros(size)\n",
    "    for i in range(size):\n",
    "        Weight = np.random.multinomial(m, multi_prob)\n",
    "        Wadjust = (Weight - 1) / m\n",
    "        WMatrix = np.outer(Wadjust, Wadjust)\n",
    "        SMatrix = WMatrix * U\n",
    "        diag_sum = sum(SMatrix.diagonal())\n",
    "        matrix_sum = SMatrix.sum()\n",
    "        Si = matrix_sum - diag_sum\n",
    "        Sstar[i] = Si\n",
    "        if epochshow != False:\n",
    "            if (i+1) % epochshow == 0:\n",
    "                print(f\"we are in epoch {i+1}\")\n",
    "\n",
    "    return Sstar"
   ]
  },
  {
   "cell_type": "code",
   "execution_count": 8,
   "metadata": {},
   "outputs": [],
   "source": [
    "def approx_pvalue(S, Sstar):\n",
    "    \"\"\"\n",
    "    param S: unbiased estimation of KSD, scalar\n",
    "    param Sstar: unbiased m bootstrap sample KSD\n",
    "    \"\"\"\n",
    "    n = len(Sstar)\n",
    "    TFarray = Sstar[Sstar >= S]\n",
    "    count = len(TFarray)\n",
    "    return count / n"
   ]
  },
  {
   "cell_type": "code",
   "execution_count": 9,
   "metadata": {},
   "outputs": [],
   "source": [
    "def pValue_allmeanshift(samplesize, dim, meanvalue, bootstrapsize = 1000, iter = 100, MH_method = True, MH_acc = False, set_bandwidth = False):\n",
    "    \"\"\"\n",
    "    param stepvalue: 1D numpy array with dimension dim or boolean value False\n",
    "    param covalue: 1D numpy array with dimension dim or boolean value False\n",
    "\n",
    "    param\n",
    "    \"\"\"\n",
    "    n = len(meanvalue)\n",
    "    pvalue = np.zeros((n, iter))\n",
    "    cov = np.identity(dim)\n",
    "    \n",
    "    for i in range(n):\n",
    "        mi = meanvalue[i]\n",
    "        mean = np.repeat(mi, dim)\n",
    "        for j in range(iter):\n",
    "            Multinormal_X = np.random.multivariate_normal(mean, cov, samplesize)\n",
    "            UMatrix = UqMatrix(Multinormal_X, MH_method = MH_method, MH_acc = MH_acc, set_bandwidth = set_bandwidth)\n",
    "            KSDvalue = KSD(Multinormal_X, UMatrix)\n",
    "            KSDstar = Bootstrap_KSD(UMatrix, size = bootstrapsize, epochshow = False)\n",
    "            pvalue[i, j] = approx_pvalue(KSDvalue, KSDstar)\n",
    "        \n",
    "        print(f\"the {i + 1}th mean finished !\")\n",
    "    return pvalue"
   ]
  },
  {
   "cell_type": "code",
   "execution_count": 10,
   "metadata": {},
   "outputs": [],
   "source": [
    "def pValue_onemeanshift(samplesize, dim, meanvalue, bootstrapsize = 1000, iter = 100, MH_method = True, MH_acc = False, set_bandwidth = False):\n",
    "    \"\"\"\n",
    "    param stepvalue: 1D numpy array with dimension dim or boolean value False\n",
    "    param covalue: 1D numpy array with dimension dim or boolean value False\n",
    "\n",
    "    param\n",
    "    \"\"\"\n",
    "    n = len(meanvalue)\n",
    "    pvalue = np.zeros((n, iter))\n",
    "    cov = np.identity(dim)\n",
    "    for i in range(n):\n",
    "        mi = meanvalue[i]\n",
    "        mean = np.zeros(dim)\n",
    "        mean[0] = mi\n",
    "        for j in range(iter):\n",
    "            Multinormal_X = np.random.multivariate_normal(mean, cov, samplesize)\n",
    "            UMatrix = UqMatrix(Multinormal_X, MH_method = MH_method, MH_acc = MH_acc, set_bandwidth = set_bandwidth)\n",
    "            KSDvalue = KSD(Multinormal_X, UMatrix)\n",
    "            KSDstar = Bootstrap_KSD(UMatrix, size = bootstrapsize, epochshow = False)\n",
    "            pvalue[i, j] = approx_pvalue(KSDvalue, KSDstar)\n",
    "        \n",
    "    print(\"finish\")\n",
    "    \n",
    "    return pvalue"
   ]
  },
  {
   "cell_type": "code",
   "execution_count": 11,
   "metadata": {},
   "outputs": [],
   "source": [
    "def test_power(p, alpha):\n",
    "    _, m = p.shape\n",
    "    \n",
    "    p2 = p.copy()\n",
    "    # correctly rejects the null hypothesis\n",
    "    p2[p < alpha] = 1\n",
    "    # Type-II error\n",
    "    p2[p >= alpha] = 0\n",
    "    tp = np.sum(p2, axis = -1) / m\n",
    "    return tp"
   ]
  },
  {
   "cell_type": "code",
   "execution_count": 12,
   "metadata": {},
   "outputs": [
    {
     "name": "stdout",
     "output_type": "stream",
     "text": [
      "the 1th mean finished !\n"
     ]
    }
   ],
   "source": [
    "meanshift = np.array([0.3])\n",
    "\n",
    "# alpha = 0.05 (95% confidence interval)\n",
    "alpha = 0.05\n",
    "\n",
    "# h = d^0, h = d^0.25, h = d^0.5(medium heuristic), h = d^0.75, h = d^1"
   ]
  },
  {
   "cell_type": "code",
   "execution_count": null,
   "metadata": {},
   "outputs": [],
   "source": [
    "# onemeanshift case\n",
    "\n",
    "# dimension = 5\n",
    "dim5_om_d0 = pValue_onemeanshift(1000, 5, meanvalue = meanshift, iter = 150, MH_method = False, set_bandwidth = 1)\n",
    "tp_dim5_om_d0 = test_power(dim5_om_d0, alpha)[0]\n",
    "\n",
    "dim5_om_d1 = pValue_onemeanshift(1000, 5, meanvalue = meanshift, iter = 150, MH_method = False, set_bandwidth = round(5 ** 0.25, 3))\n",
    "tp_dim5_om_d1 = test_power(dim5_om_d1, alpha)[0]\n",
    "\n",
    "dim5_om_appMH = pValue_onemeanshift(1000, 5, meanvalue = meanshift, iter = 150, MH_method = True)\n",
    "tp_dim5_om_appMH = test_power(dim5_om_appMH, alpha)[0]\n",
    "\n",
    "dim5_om_accMH = pValue_onemeanshift(1000, 5, meanvalue = meanshift, iter = 150, MH_method = True, MH_acc = True)\n",
    "tp_dim5_om_accMH = test_power(dim5_om_accMH, alpha)[0]\n",
    "\n",
    "dim5_om_d4 = pValue_onemeanshift(1000, 5, meanvalue = meanshift, iter = 150, MH_method = False, set_bandwidth = round(5 ** 0.75, 3))\n",
    "tp_dim5_om_d4 = test_power(dim5_om_d4, alpha)[0]\n",
    "\n",
    "dim5_om_d5 = pValue_onemeanshift(1000, 5, meanvalue = meanshift, iter = 150, MH_method = False, set_bandwidth = 5)\n",
    "tp_dim5_om_d5 = test_power(dim5_om_d5, alpha)[0]"
   ]
  },
  {
   "cell_type": "code",
   "execution_count": null,
   "metadata": {},
   "outputs": [],
   "source": [
    "# dimension = 10\n",
    "dim10_om_d0 = pValue_onemeanshift(1000, 10, meanvalue = meanshift, iter = 150, MH_method = False, set_bandwidth = 1)\n",
    "tp_dim10_om_d0 = test_power(dim10_om_d0, alpha)[0]\n",
    "\n",
    "dim10_om_d1 = pValue_onemeanshift(1000, 10, meanvalue = meanshift, iter = 150, MH_method = False, set_bandwidth = (round(10 ** 0.25, 3))\n",
    "tp_dim10_om_d1 = test_power(dim10_om_d1, alpha)[0]\n",
    "\n",
    "dim10_om_appMH = pValue_onemeanshift(1000, 10, meanvalue = meanshift, iter = 150, MH_method = True)\n",
    "tp_dim10_om_appMH = test_power(dim10_om_appMH, alpha)[0]\n",
    "\n",
    "dim10_om_accMH = pValue_onemeanshift(1000, 10, meanvalue = meanshift, iter = 150, MH_method = True, MH_acc = True)\n",
    "tp_dim10_om_accMH = test_power(dim10_om_accMH, alpha)[0]\n",
    "\n",
    "dim10_om_d4 = pValue_onemeanshift(1000, 10, meanvalue = meanshift, iter = 150, MH_method = False, set_bandwidth = (round(10 ** 0.75, 3))\n",
    "tp_dim10_om_d4 = test_power(dim10_om_d4, alpha)[0]\n",
    "\n",
    "dim10_om_d5 = pValue_onemeanshift(1000, 10, meanvalue = meanshift, iter = 150, MH_method = False, set_bandwidth = 10)\n",
    "tp_dim10_om_d5 = test_power(dim10_om_d5, alpha)[0]"
   ]
  },
  {
   "cell_type": "code",
   "execution_count": null,
   "metadata": {},
   "outputs": [],
   "source": [
    "# dimension = 15\n",
    "dim15_om_d0 = pValue_onemeanshift(1000, 15, meanvalue = meanshift, iter = 150, MH_method = False, set_bandwidth = 1)\n",
    "tp_dim15_om_d0 = test_power(dim15_om_d0, alpha)[0]\n",
    "\n",
    "dim15_om_d1 = pValue_onemeanshift(1000, 15, meanvalue = meanshift, iter = 150, MH_method = False, set_bandwidth = round(15 ** 0.25, 3))\n",
    "tp_dim15_om_d1 = test_power(dim15_om_d1, alpha)[0]\n",
    "\n",
    "dim15_om_appMH = pValue_onemeanshift(1000, 15, meanvalue = meanshift, iter = 150, MH_method = True)\n",
    "tp_dim15_om_appMH = test_power(dim15_om_appMH, alpha)[0]\n",
    "\n",
    "dim15_om_accMH = pValue_onemeanshift(1000, 15, meanvalue = meanshift, iter = 150, MH_method = True, MH_acc = True)\n",
    "tp_dim15_om_accMH = test_power(dim15_om_accMH, alpha)[0]\n",
    "\n",
    "dim15_om_d4 = pValue_onemeanshift(1000, 15, meanvalue = meanshift, iter = 150, MH_method = False, set_bandwidth = round(15 ** 0.75, 3))\n",
    "tp_dim15_om_d4 = test_power(dim15_om_d4, alpha)[0]\n",
    "\n",
    "dim15_om_d5 = pValue_onemeanshift(1000, 15, meanvalue = meanshift, iter = 150, MH_method = False, set_bandwidth = 15)\n",
    "tp_dim15_om_d5 = test_power(dim15_om_d5, alpha)[0]"
   ]
  },
  {
   "cell_type": "code",
   "execution_count": null,
   "metadata": {},
   "outputs": [],
   "source": [
    "# dimension = 20\n",
    "dim20_om_d0 = pValue_onemeanshift(1000, 20, meanvalue = meanshift, iter = 150, MH_method = False, set_bandwidth = 1)\n",
    "tp_dim20_om_d0 = test_power(dim20_om_d0, alpha)[0]\n",
    "\n",
    "dim20_om_d1 = pValue_onemeanshift(1000, 20, meanvalue = meanshift, iter = 150, MH_method = False, set_bandwidth = (round(20 ** 0.25, 3))\n",
    "tp_dim20_om_d1 = test_power(dim20_om_d1, alpha)[0]\n",
    "\n",
    "dim20_om_appMH = pValue_onemeanshift(1000, 20, meanvalue = meanshift, iter = 150, MH_method = True)\n",
    "tp_dim20_om_appMH = test_power(dim20_om_appMH, alpha)[0]\n",
    "\n",
    "dim20_om_accMH = pValue_onemeanshift(1000, 20, meanvalue = meanshift, iter = 150, MH_method = True, MH_acc = True)\n",
    "tp_dim20_om_accMH = test_power(dim20_om_accMH, alpha)[0]\n",
    "\n",
    "dim20_om_d4 = pValue_onemeanshift(1000, 20, meanvalue = meanshift, iter = 150, MH_method = False, set_bandwidth = (round(20 ** 0.75, 3))\n",
    "tp_dim20_om_d4 = test_power(dim20_om_d4, alpha)[0]\n",
    "\n",
    "dim20_om_d5 = pValue_onemeanshift(1000, 20, meanvalue = meanshift, iter = 150, MH_method = False, set_bandwidth = 20)\n",
    "tp_dim20_om_d5 = test_power(dim20_om_d5, alpha)[0]"
   ]
  },
  {
   "cell_type": "code",
   "execution_count": null,
   "metadata": {},
   "outputs": [],
   "source": [
    "tp_om_d0 = np.array([tp_dim5_om_d0, tp_dim10_om_d0, tp_dim15_om_d0, tp_dim20_om_d0])\n",
    "tp_om_d1 = np.array([tp_dim5_om_d1, tp_dim10_om_d1, tp_dim15_om_d1, tp_dim20_om_d1])\n",
    "tp_om_appMH = np.array([tp_dim5_om_appMH, tp_dim10_om_appMH, tp_dim15_om_appMH, tp_dim20_om_appMH])\n",
    "tp_om_accMH = np.array([tp_dim5_om_accMH, tp_dim10_om_accMH, tp_dim15_om_accMH, tp_dim20_om_accMH])\n",
    "tp_om_d4 = np.array([tp_dim5_om_d4, tp_dim10_om_d4, tp_dim15_om_d4, tp_dim20_om_d4])\n",
    "tp_om_d5 = np.array([tp_dim5_om_d5, tp_dim10_om_d5, tp_dim15_om_d5, tp_dim20_om_d5])"
   ]
  },
  {
   "cell_type": "code",
   "execution_count": null,
   "metadata": {},
   "outputs": [],
   "source": [
    "xlabel = np.array([\"5\", \"10\", \"15\", \"20\"])\n",
    "\n",
    "fig = plt.figure(figsize =(12, 6))\n",
    "fig.suptitle(\"test power against dimension, mean = 0.3, sample size=1000, iter = 150, one mean shift\", fontsize = 12)\n",
    "\n",
    "ax = fig.add_subplot(111)\n",
    "\n",
    "ax.plot(xlabel, tp_om_d0, \"b\", linewidth = 4, label = \"h = 1\")\n",
    "ax.plot(xlabel, tp_om_d1, \"r\", linewidth = 3, label = \"h = d^0.25\")\n",
    "ax.plot(xlabel, tp_om_appMH, \"g\", linewidth = 5, label = \"h = Medium\")\n",
    "ax.plot(xlabel, tp_om_d4, \"k\", linewidth = 3, label = \"h = d^0.75\")\n",
    "ax.plot(xlabel, tp_om_d5, \"c\", linewidth = 2, label = \"h = d\")\n",
    "ax.legend(title = \"bandwidth h\", loc = \"upper right\")\n",
    "ax.set_xlabel(\"dimension\")\n",
    "ax.set_ylabel(\"test power\")\n",
    "\n",
    "plt.show()"
   ]
  },
  {
   "cell_type": "code",
   "execution_count": null,
   "metadata": {},
   "outputs": [],
   "source": [
    "fig = plt.figure(figsize =(12, 6))\n",
    "fig.suptitle(\"test power difference between appoximate MH and accurate MH, one mean shift\", fontsize = 12)\n",
    "\n",
    "ax2 = fig.add_subplot(111)\n",
    "\n",
    "ax2.plot(xlabel, tp_om_appMH, \"g\", linewidth = 5, label = \"approx MH\")\n",
    "ax2.plot(xlabel, tp_om_accMH, \"b\", linewidth = 3, label = \"accurate MH\")\n",
    "ax2.legend(loc = \"lower left\")\n",
    "ax2.set_xlabel(\"dimension\")\n",
    "ax2.set_ylabel(\"test power\")\n",
    "\n",
    "plt.show()"
   ]
  },
  {
   "cell_type": "code",
   "execution_count": null,
   "metadata": {},
   "outputs": [],
   "source": [
    "data_om = np.array([dim5_om_appMH[0], dim10_om_appMH[0], dim15_om_appMH[0], dim20_om_appMH[0]])"
   ]
  },
  {
   "cell_type": "code",
   "execution_count": null,
   "metadata": {},
   "outputs": [],
   "source": [
    "fig = plt.figure(figsize =(12, 6))\n",
    "fig.suptitle(\"p value against dimension, one mean shift, mean = 0.3, use medium heuristic bandwidth\", fontsize = 12)\n",
    "\n",
    "ax3 = fig.add_subplot(111)\n",
    "\n",
    "ax3.boxplot(data_om.T)\n",
    "ax3.set_xticklabels([\"5\", \"10\", \"15\", \"20\"])\n",
    "ax3.set_xlabel(\"dimension\")\n",
    "ax3.set_ylabel(\"p value\")\n",
    "\n",
    "plt.show()"
   ]
  },
  {
   "cell_type": "code",
   "execution_count": 27,
   "metadata": {},
   "outputs": [
    {
     "name": "stdout",
     "output_type": "stream",
     "text": [
      "the 1th mean finished !\n"
     ]
    }
   ],
   "source": [
    "dim5_am_d1 = pValue_allmeanshift(1000, 5, meanvalue = meanshift, iter = 150, MH_method = False, set_bandwidth = round(5 ** 0.25, 3))\n",
    "tp_dim5_am_d1 = test_power(dim5_am_d1, alpha)"
   ]
  },
  {
   "cell_type": "code",
   "execution_count": 31,
   "metadata": {},
   "outputs": [
    {
     "data": {
      "text/plain": [
       "array([1., 1., 1.])"
      ]
     },
     "execution_count": 31,
     "metadata": {},
     "output_type": "execute_result"
    }
   ],
   "source": [
    "tp_dim5_am_d1[0]\n",
    "np.array([tp_dim5_am_d1[0], tp_dim5_am_d1[0], tp_dim5_am_d1[0]])"
   ]
  },
  {
   "cell_type": "code",
   "execution_count": null,
   "metadata": {},
   "outputs": [],
   "source": [
    "# allmeanshift case\n",
    "\n",
    "# dimension = 5\n",
    "dim5_am_d0 = pValue_allmeanshift(1000, 5, meanvalue = meanshift, iter = 150, MH_method = False, set_bandwidth = 1)\n",
    "tp_dim5_am_d0 = test_power(dim5_am_d0, alpha)[0]\n",
    "\n",
    "dim5_am_d1 = pValue_allmeanshift(1000, 5, meanvalue = meanshift, iter = 150, MH_method = False, set_bandwidth = round(5 ** 0.25, 3))\n",
    "tp_dim5_am_d1 = test_power(dim5_am_d1, alpha)[0]\n",
    "\n",
    "dim5_am_appMH = pValue_allmeanshift(1000, 5, meanvalue = meanshift, iter = 150, MH_method = True)\n",
    "tp_dim5_am_appMH = test_power(dim5_am_appMH, alpha)[0]\n",
    "\n",
    "dim5_am_accMH = pValue_allmeanshift(1000, 5, meanvalue = meanshift, iter = 150, MH_method = True, MH_acc = True)\n",
    "tp_dim5_am_accMH = test_power(dim5_am_accMH, alpha)[0]\n",
    "\n",
    "dim5_am_d4 = pValue_allmeanshift(1000, 5, meanvalue = meanshift, iter = 150, MH_method = False, set_bandwidth = round(5 ** 0.75, 3))\n",
    "tp_dim5_am_d4 = test_power(dim5_am_d4, alpha)[0]\n",
    "\n",
    "dim5_am_d5 = pValue_allmeanshift(1000, 5, meanvalue = meanshift, iter = 150, MH_method = False, set_bandwidth = 5)\n",
    "tp_dim5_am_d5 = test_power(dim5_am_d5, alpha)[0]"
   ]
  },
  {
   "cell_type": "code",
   "execution_count": null,
   "metadata": {},
   "outputs": [],
   "source": [
    "# dimension = 10\n",
    "dim10_am_d0 = pValue_onemeanshift(1000, 10, meanvalue = meanshift, iter = 150, MH_method = False, set_bandwidth = 1)\n",
    "tp_dim10_am_d0 = test_power(dim10_am_d0, alpha)[0]\n",
    "\n",
    "dim10_am_d1 = pValue_onemeanshift(1000, 10, meanvalue = meanshift, iter = 150, MH_method = False, set_bandwidth = (round(10 ** 0.25, 3))\n",
    "tp_dim10_am_d1 = test_power(dim10_am_d1, alpha)[0]\n",
    "\n",
    "dim10_am_appMH = pValue_onemeanshift(1000, 10, meanvalue = meanshift, iter = 150, MH_method = True)\n",
    "tp_dim10_am_appMH = test_power(dim10_am_appMH, alpha)[0]\n",
    "\n",
    "dim10_am_accMH = pValue_onemeanshift(1000, 10, meanvalue = meanshift, iter = 150, MH_method = True, MH_acc = True)\n",
    "tp_dim10_am_accMH = test_power(dim10_am_accMH, alpha)[0]\n",
    "\n",
    "dim10_am_d4 = pValue_onemeanshift(1000, 10, meanvalue = meanshift, iter = 150, MH_method = False, set_bandwidth = (round(10 ** 0.75, 3))\n",
    "tp_dim10_am_d4 = test_power(dim10_am_d4, alpha)[0]\n",
    "\n",
    "dim10_am_d5 = pValue_onemeanshift(1000, 10, meanvalue = meanshift, iter = 150, MH_method = False, set_bandwidth = 10)\n",
    "tp_dim10_am_d5 = test_power(dim10_am_d5, alpha)[0]"
   ]
  },
  {
   "cell_type": "code",
   "execution_count": null,
   "metadata": {},
   "outputs": [],
   "source": [
    "# dimension = 15\n",
    "dim15_am_d0 = pValue_onemeanshift(1000, 15, meanvalue = meanshift, iter = 150, MH_method = False, set_bandwidth = 1)\n",
    "tp_dim15_am_d0 = test_power(dim15_am_d0, alpha)[0]\n",
    "\n",
    "dim15_am_d1 = pValue_onemeanshift(1000, 15, meanvalue = meanshift, iter = 150, MH_method = False, set_bandwidth = round(15 ** 0.25, 3))\n",
    "tp_dim15_am_d1 = test_power(dim15_am_d1, alpha)[0]\n",
    "\n",
    "dim15_am_appMH = pValue_onemeanshift(1000, 15, meanvalue = meanshift, iter = 150, MH_method = True)\n",
    "tp_dim15_am_appMH = test_power(dim15_am_appMH, alpha)[0]\n",
    "\n",
    "dim15_am_accMH = pValue_onemeanshift(1000, 15, meanvalue = meanshift, iter = 150, MH_method = True, MH_acc = True)\n",
    "tp_dim15_am_accMH = test_power(dim15_am_accMH, alpha)[0]\n",
    "\n",
    "dim15_am_d4 = pValue_onemeanshift(1000, 15, meanvalue = meanshift, iter = 150, MH_method = False, set_bandwidth = round(15 ** 0.75, 3))\n",
    "tp_dim15_am_d4 = test_power(dim15_am_d4, alpha)[0]\n",
    "\n",
    "dim15_am_d5 = pValue_onemeanshift(1000, 15, meanvalue = meanshift, iter = 150, MH_method = False, set_bandwidth = 15)\n",
    "tp_dim15_am_d5 = test_power(dim15_am_d5, alpha)[0]"
   ]
  },
  {
   "cell_type": "code",
   "execution_count": null,
   "metadata": {},
   "outputs": [],
   "source": [
    "# dimension = 20\n",
    "dim20_am_d0 = pValue_onemeanshift(1000, 20, meanvalue = meanshift, iter = 150, MH_method = False, set_bandwidth = 1)\n",
    "tp_dim20_am_d0 = test_power(dim20_am_d0, alpha)[0]\n",
    "\n",
    "dim20_am_d1 = pValue_onemeanshift(1000, 20, meanvalue = meanshift, iter = 150, MH_method = False, set_bandwidth = (round(20 ** 0.25, 3))\n",
    "tp_dim20_am_d1 = test_power(dim20_am_d1, alpha)[0]\n",
    "\n",
    "dim20_am_appMH = pValue_onemeanshift(1000, 20, meanvalue = meanshift, iter = 150, MH_method = True)\n",
    "tp_dim20_am_appMH = test_power(dim20_am_appMH, alpha)[0]\n",
    "\n",
    "dim20_am_accMH = pValue_onemeanshift(1000, 20, meanvalue = meanshift, iter = 150, MH_method = True, MH_acc = True)\n",
    "tp_dim20_am_accMH = test_power(dim20_am_accMH, alpha)[0]\n",
    "\n",
    "dim20_am_d4 = pValue_onemeanshift(1000, 20, meanvalue = meanshift, iter = 150, MH_method = False, set_bandwidth = (round(20 ** 0.75, 3))\n",
    "tp_dim20_am_d4 = test_power(dim20_am_d4, alpha)[0]\n",
    "\n",
    "dim20_am_d5 = pValue_onemeanshift(1000, 20, meanvalue = meanshift, iter = 150, MH_method = False, set_bandwidth = 20)\n",
    "tp_dim20_am_d5 = test_power(dim20_am_d5, alpha)[0]"
   ]
  },
  {
   "cell_type": "code",
   "execution_count": null,
   "metadata": {},
   "outputs": [],
   "source": [
    "tp_am_d0 = np.array([tp_dim5_am_d0, tp_dim10_am_d0, tp_dim15_am_d0, tp_dim20_am_d0])\n",
    "tp_am_d1 = np.array([tp_dim5_am_d1, tp_dim10_am_d1, tp_dim15_am_d1, tp_dim20_am_d1])\n",
    "tp_am_appMH = np.array([tp_dim5_am_appMH, tp_dim10_am_appMH, tp_dim15_am_appMH, tp_dim20_am_appMH])\n",
    "tp_am_accMH = np.array([tp_dim5_am_accMH, tp_dim10_am_accMH, tp_dim15_am_accMH, tp_dim20_am_accMH])\n",
    "tp_am_d4 = np.array([tp_dim5_am_d4, tp_dim10_am_d4, tp_dim15_am_d4, tp_dim20_am_d4])\n",
    "tp_am_d5 = np.array([tp_dim5_am_d5, tp_dim10_am_d5, tp_dim15_am_d5, tp_dim20_am_d5])"
   ]
  },
  {
   "cell_type": "code",
   "execution_count": null,
   "metadata": {},
   "outputs": [],
   "source": [
    "xlabel = np.array([\"5\", \"10\", \"15\", \"20\"])\n",
    "\n",
    "fig = plt.figure(figsize =(12, 6))\n",
    "fig.suptitle(\"test power against dimension, under H1 with mean = 0.3, sample size=1000, iter = 150, all mean shift\", fontsize = 12)\n",
    "\n",
    "ax4 = fig.add_subplot(111)\n",
    "\n",
    "ax4.plot(xlabel, tp_am_d0, \"b\", linewidth = 4, label = \"h = 1\")\n",
    "ax4.plot(xlabel, tp_am_d1, \"r\", linewidth = 3, label = \"h = d^0.25\")\n",
    "ax4.plot(xlabel, tp_am_appMH, \"g\", linewidth = 5, label = \"h = Medium\")\n",
    "ax4.plot(xlabel, tp_am_d4, \"k\", linewidth = 3, label = \"h = d^0.75\")\n",
    "ax4.plot(xlabel, tp_am_d5, \"c\", linewidth = 2, label = \"h = d\")\n",
    "ax4.legend(title = \"bandwidth h\", loc = \"upper right\")\n",
    "ax4.set_xlabel(\"dimension\")\n",
    "ax4.set_ylabel(\"test power\")\n",
    "\n",
    "plt.show()"
   ]
  },
  {
   "cell_type": "code",
   "execution_count": null,
   "metadata": {},
   "outputs": [],
   "source": []
  }
 ],
 "metadata": {
  "kernelspec": {
   "display_name": "Python 3 (ipykernel)",
   "language": "python",
   "name": "python3"
  },
  "language_info": {
   "codemirror_mode": {
    "name": "ipython",
    "version": 3
   },
   "file_extension": ".py",
   "mimetype": "text/x-python",
   "name": "python",
   "nbconvert_exporter": "python",
   "pygments_lexer": "ipython3",
   "version": "3.8.10"
  },
  "vscode": {
   "interpreter": {
    "hash": "31f2aee4e71d21fbe5cf8b01ff0e069b9275f58929596ceb00d14d90e3e16cd6"
   }
  }
 },
 "nbformat": 4,
 "nbformat_minor": 2
}
